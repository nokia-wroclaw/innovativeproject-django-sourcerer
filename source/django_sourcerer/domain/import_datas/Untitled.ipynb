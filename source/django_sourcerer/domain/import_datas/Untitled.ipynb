{
 "cells": [
  {
   "cell_type": "code",
   "execution_count": null,
   "metadata": {},
   "outputs": [],
   "source": [
    "import yaml\n",
    "\n",
    "\n",
    "class ReadConfigFile:\n",
    "    \n",
    "    def __init__(self,file):\n",
    "        \n",
    "        self.parse = file\n",
    "    \n",
    "    \n",
    "    def import_yaml_file(self):\n",
    "        with open(self.parse, 'r') as stream:\n",
    "            docs = yaml.safe_load(stream)\n",
    "        return docs\n",
    "\n",
    "    "
   ]
  }
 ],
 "metadata": {
  "kernelspec": {
   "display_name": "Python 3",
   "language": "python",
   "name": "python3"
  },
  "language_info": {
   "codemirror_mode": {
    "name": "ipython",
    "version": 3
   },
   "file_extension": ".py",
   "mimetype": "text/x-python",
   "name": "python",
   "nbconvert_exporter": "python",
   "pygments_lexer": "ipython3",
   "version": "3.6.5"
  }
 },
 "nbformat": 4,
 "nbformat_minor": 2
}
